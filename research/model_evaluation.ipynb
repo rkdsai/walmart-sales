{
 "cells": [
  {
   "cell_type": "code",
   "execution_count": 1,
   "metadata": {},
   "outputs": [],
   "source": [
    "import os"
   ]
  },
  {
   "cell_type": "code",
   "execution_count": 2,
   "metadata": {},
   "outputs": [
    {
     "data": {
      "text/plain": [
       "'c:\\\\Users\\\\dell\\\\Documents\\\\mlops\\\\walmart-sales\\\\research'"
      ]
     },
     "execution_count": 2,
     "metadata": {},
     "output_type": "execute_result"
    }
   ],
   "source": [
    "%pwd"
   ]
  },
  {
   "cell_type": "code",
   "execution_count": 3,
   "metadata": {},
   "outputs": [
    {
     "data": {
      "text/plain": [
       "'c:\\\\Users\\\\dell\\\\Documents\\\\mlops\\\\walmart-sales'"
      ]
     },
     "execution_count": 3,
     "metadata": {},
     "output_type": "execute_result"
    }
   ],
   "source": [
    "os.chdir(\"../\")\n",
    "%pwd"
   ]
  },
  {
   "cell_type": "code",
   "execution_count": null,
   "metadata": {},
   "outputs": [],
   "source": [
    "os.environ[\"MLFLOW_TRACKING_URI\"] = \"https://dagshub.com/ravikiran058/walmart-sales.mlflow\"\n",
    "os.environ[\"MLFLOW_TRACKING_USERNAME\"] = \"ravikiran058\"\n",
    "os.environ[\"MLFLOW_TRACKING_PASSWORD\"] = \"######\""
   ]
  },
  {
   "cell_type": "code",
   "execution_count": 6,
   "metadata": {},
   "outputs": [],
   "source": [
    "from dataclasses import dataclass, field\n",
    "from pathlib import Path\n",
    "\n",
    "@dataclass(frozen=True)\n",
    "class ModelEvaluationConfig:\n",
    "    root_dir: Path\n",
    "    test_data_path: Path\n",
    "    pipeline_path: Path \n",
    "    model_instance_path: Path\n",
    "    # all_params: dict\n",
    "    target_column: str\n",
    "    metrics_file_name: Path\n",
    "    mlflow_uri: str"
   ]
  },
  {
   "cell_type": "code",
   "execution_count": 7,
   "metadata": {},
   "outputs": [],
   "source": [
    "from projectFiles.constants import *\n",
    "from projectFiles.utils.common import read_yaml, create_directories, save_json"
   ]
  },
  {
   "cell_type": "code",
   "execution_count": 8,
   "metadata": {},
   "outputs": [],
   "source": [
    "class ConfigurationManager:\n",
    "    def __init__(self, config_filepath = CONFIG_FILE_PATH, params_filepath = PARAMS_FILE_PATH, schema_filepath = SCHEMA_FILE_PATH):\n",
    "        self.config = read_yaml(config_filepath)\n",
    "        self.params = read_yaml(params_filepath)\n",
    "        self.schema = read_yaml(schema_filepath)\n",
    "\n",
    "        create_directories([self.config.artifacts_root])\n",
    "\n",
    "    def get_model_evaluation_config(self) -> ModelEvaluationConfig:\n",
    "        config = self.config.model_evaluation\n",
    "        # params = self.params\n",
    "        schema = self.schema\n",
    "\n",
    "        create_directories([config.root_dir])\n",
    "        \n",
    "        model_evaluation_config = ModelEvaluationConfig(\n",
    "            root_dir = config.root_dir,\n",
    "            test_data_path = config.test_data_path,\n",
    "            pipeline_path = config.pipeline_path,\n",
    "            model_instance_path = config.model_instance_path,\n",
    "            # all_params = params,\n",
    "            metrics_file_name = config.metrics_file_name,\n",
    "            target_column = schema.TARGET_COLUMN.name,\n",
    "            mlflow_uri = \"https://dagshub.com/ravikiran058/walmart-sales.mlflow\"\n",
    "        )\n",
    "\n",
    "        return model_evaluation_config"
   ]
  },
  {
   "cell_type": "code",
   "execution_count": 9,
   "metadata": {},
   "outputs": [],
   "source": [
    "import os\n",
    "import pandas as pd\n",
    "from sklearn.metrics import root_mean_squared_error, r2_score\n",
    "from sklearn.model_selection import cross_val_predict\n",
    "from urllib.parse import urlparse\n",
    "import mlflow\n",
    "import mlflow.sklearn\n",
    "import numpy as np\n",
    "import pickle"
   ]
  },
  {
   "cell_type": "code",
   "execution_count": 10,
   "metadata": {},
   "outputs": [],
   "source": [
    "class ModelEvaluation:\n",
    "    def __init__(self, config = ModelEvaluationConfig):\n",
    "        self.config = config\n",
    "\n",
    "    def eval_metrics(self, actual, pred):\n",
    "        rmse = root_mean_squared_error(actual, pred)\n",
    "        r2 = r2_score(actual, pred)\n",
    "        return rmse, r2\n",
    "    \n",
    "    def log_in_mlflow(self):\n",
    "        target_col = self.config.target_column\n",
    "        test_df = pd.read_csv(self.config.test_data_path)\n",
    "        with open(self.config.pipeline_path, 'rb') as file:\n",
    "            regressor_pipeline = pickle.load(file)\n",
    "        with open(self.config.model_instance_path, 'rb') as file:\n",
    "            model_instance = pickle.load(file)   \n",
    "\n",
    "        test_df.drop(columns=[\"Date\"], inplace = True)\n",
    "        test_x = test_df.drop(columns=target_col)\n",
    "        test_y = test_df[target_col]\n",
    "\n",
    "        mlflow.set_registry_uri(self.config.mlflow_uri)\n",
    "        tracking_url_type_store = urlparse(mlflow.get_tracking_uri()).scheme\n",
    "\n",
    "        with mlflow.start_run():\n",
    "            prediction = regressor_pipeline.predict(test_x)\n",
    "            \n",
    "            (rmse, r2) = self.eval_metrics(test_y, prediction)\n",
    "\n",
    "            scores = {\"rmse\":rmse, \"r2\":r2}\n",
    "            save_json(path = Path(self.config.metrics_file_name), data = scores)\n",
    "\n",
    "            mlflow.log_metric(\"rmse\", rmse)\n",
    "            mlflow.log_metric(\"r2\", r2)\n",
    "\n",
    "            if tracking_url_type_store != \"file\":\n",
    "                mlflow.sklearn.log_model(regressor_pipeline, \"model\", registered_model_name=\"LGBMRegressorPipeline\")\n",
    "            else:\n",
    "                mlflow.sklearn.log_model(regressor_pipeline, \"model\")"
   ]
  },
  {
   "cell_type": "code",
   "execution_count": 11,
   "metadata": {},
   "outputs": [
    {
     "name": "stdout",
     "output_type": "stream",
     "text": [
      "DEBUG: YAML Content from config\\config.yaml -> {'artifacts_root': 'artifacts', 'data_ingestion': {'root_dir': 'artifacts/data_ingestion', 'source_URL': 'https://github.com/rkdsai/walmart-sales/raw/refs/heads/main/raw_data.zip', 'local_data_file': 'artifacts/data_ingestion/data.zip', 'unzip_dir': 'artifacts/data_ingestion'}, 'data_validation': {'root_dir': 'artifacts/data_validation', 'data_dirs': {'features': 'artifacts/data_ingestion/features.csv', 'stores': 'artifacts/data_ingestion/stores.csv', 'train': 'artifacts/data_ingestion/train.csv', 'test': 'artifacts/data_ingestion/test.csv'}, 'STATUS_FILE': 'artifacts/data_validation/status.txt'}, 'data_transformation': {'root_dir': 'artifacts/data_transformation', 'data_dirs': {'features': 'artifacts/data_ingestion/features.csv', 'stores': 'artifacts/data_ingestion/stores.csv', 'train': 'artifacts/data_ingestion/train.csv', 'test': 'artifacts/data_ingestion/test.csv'}}, 'model_trainer': {'root_dir': 'artifacts/model_trainer', 'train_data_path': 'artifacts/data_transformation/final_train_data.csv', 'test_data_path': 'artifacts/data_transformation/final_test_data.csv', 'pipeline_name': 'regressor_pipeline.pkl', 'model_instance_name': 'model.pkl', 'target_column': 'Weekly_Sales'}, 'model_evaluation': {'root_dir': 'artifacts/model_evaluation', 'test_data_path': 'artifacts/data_transformation/final_test_data.csv', 'pipeline_path': 'artifacts/model_trainer/regressor_pipeline.pkl', 'model_instance_path': 'artifacts/model_trainer/model.pkl', 'metrics_file_name': 'artifacts/model_evaluation/metrics.json'}}\n",
      "[2025-03-08 23:51:25,265: INFO: common: yaml file: config\\config.yaml loaded successfully]\n",
      "DEBUG: YAML Content from params.yaml -> {'LGBMRegressor': {'n_estimators': 250, 'learning_rate': 0.05}}\n",
      "[2025-03-08 23:51:25,275: INFO: common: yaml file: params.yaml loaded successfully]\n",
      "DEBUG: YAML Content from schema.yaml -> {'features': {'COLUMNS': {'Store': 'int64', 'Date': 'object', 'Temperature': 'float64', 'Fuel_Price': 'float64', 'MarkDown1': 'float64', 'MarkDown2': 'float64', 'MarkDown3': 'float64', 'MarkDown4': 'float64', 'MarkDown5': 'float64', 'CPI': 'float64', 'Unemployment': 'float64', 'IsHoliday': 'bool'}}, 'stores': {'COLUMNS': {'Store': 'int64', 'Type': 'object', 'Size': 'int64'}}, 'train': {'COLUMNS': {'Store': 'int64', 'Dept': 'int64', 'Date': 'object', 'IsHoliday': 'bool', 'Weekly_Sales': 'float64'}}, 'TARGET_COLUMN': {'name': 'Weekly_Sales'}, 'test': {'COLUMNS': {'Store': 'int64', 'Dept': 'int64', 'Date': 'object', 'IsHoliday': 'bool'}}}\n",
      "[2025-03-08 23:51:25,292: INFO: common: yaml file: schema.yaml loaded successfully]\n",
      "[2025-03-08 23:51:25,297: INFO: common: created directory at: artifacts]\n",
      "[2025-03-08 23:51:25,300: INFO: common: created directory at: artifacts/model_evaluation]\n"
     ]
    },
    {
     "name": "stderr",
     "output_type": "stream",
     "text": [
      "c:\\Users\\dell\\Documents\\mlops\\walmart-sales\\venv\\lib\\site-packages\\sklearn\\utils\\validation.py:2739: UserWarning: X does not have valid feature names, but LGBMRegressor was fitted with feature names\n",
      "  warnings.warn(\n"
     ]
    },
    {
     "name": "stdout",
     "output_type": "stream",
     "text": [
      "[2025-03-08 23:51:28,642: INFO: common: json file saved at: artifacts\\model_evaluation\\metrics.json]\n"
     ]
    },
    {
     "name": "stderr",
     "output_type": "stream",
     "text": [
      "2025/03/08 23:51:57 WARNING mlflow.models.model: Model logged without a signature and input example. Please set `input_example` parameter when logging the model to auto infer the model signature.\n",
      "Successfully registered model 'LGBMRegressorPipeline'.\n",
      "2025/03/08 23:52:04 INFO mlflow.store.model_registry.abstract_store: Waiting up to 300 seconds for model version to finish creation. Model name: LGBMRegressorPipeline, version 1\n",
      "Created version '1' of model 'LGBMRegressorPipeline'.\n"
     ]
    },
    {
     "name": "stdout",
     "output_type": "stream",
     "text": [
      "🏃 View run caring-sow-133 at: https://dagshub.com/ravikiran058/walmart-sales.mlflow/#/experiments/0/runs/83cccd790df440e2b7815a512152bf27\n",
      "🧪 View experiment at: https://dagshub.com/ravikiran058/walmart-sales.mlflow/#/experiments/0\n"
     ]
    }
   ],
   "source": [
    "try:\n",
    "    config = ConfigurationManager()\n",
    "    model_evaluation_config = config.get_model_evaluation_config()\n",
    "    model_evaluation = ModelEvaluation(config = model_evaluation_config)\n",
    "    model_evaluation.log_in_mlflow()\n",
    "except Exception as e:\n",
    "    raise e"
   ]
  },
  {
   "cell_type": "code",
   "execution_count": null,
   "metadata": {},
   "outputs": [],
   "source": []
  },
  {
   "cell_type": "code",
   "execution_count": null,
   "metadata": {},
   "outputs": [],
   "source": []
  },
  {
   "cell_type": "code",
   "execution_count": null,
   "metadata": {},
   "outputs": [],
   "source": []
  },
  {
   "cell_type": "code",
   "execution_count": null,
   "metadata": {},
   "outputs": [],
   "source": []
  },
  {
   "cell_type": "code",
   "execution_count": null,
   "metadata": {},
   "outputs": [],
   "source": []
  }
 ],
 "metadata": {
  "kernelspec": {
   "display_name": "Python 3",
   "language": "python",
   "name": "python3"
  },
  "language_info": {
   "codemirror_mode": {
    "name": "ipython",
    "version": 3
   },
   "file_extension": ".py",
   "mimetype": "text/x-python",
   "name": "python",
   "nbconvert_exporter": "python",
   "pygments_lexer": "ipython3",
   "version": "3.10.16"
  }
 },
 "nbformat": 4,
 "nbformat_minor": 2
}
