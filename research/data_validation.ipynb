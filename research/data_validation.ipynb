{
 "cells": [
  {
   "cell_type": "code",
   "execution_count": 6,
   "metadata": {},
   "outputs": [],
   "source": [
    "import os"
   ]
  },
  {
   "cell_type": "code",
   "execution_count": 7,
   "metadata": {},
   "outputs": [
    {
     "data": {
      "text/plain": [
       "'c:\\\\Users\\\\dell\\\\Documents\\\\mlops\\\\walmart-sales\\\\research'"
      ]
     },
     "execution_count": 7,
     "metadata": {},
     "output_type": "execute_result"
    }
   ],
   "source": [
    "%pwd"
   ]
  },
  {
   "cell_type": "code",
   "execution_count": 8,
   "metadata": {},
   "outputs": [
    {
     "data": {
      "text/plain": [
       "'c:\\\\Users\\\\dell\\\\Documents\\\\mlops\\\\walmart-sales'"
      ]
     },
     "execution_count": 8,
     "metadata": {},
     "output_type": "execute_result"
    }
   ],
   "source": [
    "os.chdir(\"../\")\n",
    "%pwd"
   ]
  },
  {
   "cell_type": "code",
   "execution_count": 9,
   "metadata": {},
   "outputs": [],
   "source": [
    "import pandas as pd"
   ]
  },
  {
   "cell_type": "code",
   "execution_count": 10,
   "metadata": {},
   "outputs": [
    {
     "name": "stdout",
     "output_type": "stream",
     "text": [
      "<class 'pandas.core.frame.DataFrame'>\n",
      "RangeIndex: 115064 entries, 0 to 115063\n",
      "Data columns (total 4 columns):\n",
      " #   Column     Non-Null Count   Dtype \n",
      "---  ------     --------------   ----- \n",
      " 0   Store      115064 non-null  int64 \n",
      " 1   Dept       115064 non-null  int64 \n",
      " 2   Date       115064 non-null  object\n",
      " 3   IsHoliday  115064 non-null  bool  \n",
      "dtypes: bool(1), int64(2), object(1)\n",
      "memory usage: 2.7+ MB\n"
     ]
    }
   ],
   "source": [
    "features = pd.read_csv(\"artifacts/data_ingestion/test.csv\")\n",
    "features.info()"
   ]
  },
  {
   "cell_type": "code",
   "execution_count": 11,
   "metadata": {},
   "outputs": [
    {
     "name": "stdout",
     "output_type": "stream",
     "text": [
      "Store: int64\n",
      "Dept: int64\n",
      "Date: object\n",
      "IsHoliday: bool\n"
     ]
    }
   ],
   "source": [
    "cols, col_dtypes = features.dtypes.index.tolist(), features.dtypes.values.tolist()\n",
    "cols, col_dtypes\n",
    "for c,t in zip(cols, col_dtypes):\n",
    "    print(f\"{c}: {t}\")"
   ]
  },
  {
   "cell_type": "code",
   "execution_count": 12,
   "metadata": {},
   "outputs": [],
   "source": [
    "from dataclasses import dataclass, field\n",
    "from pathlib import Path\n",
    "\n",
    "@dataclass(frozen=True)\n",
    "class DataValidationConfig:\n",
    "    root_dir: Path\n",
    "    STATUS_FILE: str\n",
    "    all_schema: dict\n",
    "    data_dirs: dict = field(default_factory= lambda: {\n",
    "        'features': None,\n",
    "        'stores': None,\n",
    "        'train': None,\n",
    "        'test': None\n",
    "    })"
   ]
  },
  {
   "cell_type": "code",
   "execution_count": 13,
   "metadata": {},
   "outputs": [],
   "source": [
    "from projectFiles.constants import *\n",
    "from projectFiles.utils.common import read_yaml, create_directories"
   ]
  },
  {
   "cell_type": "code",
   "execution_count": 14,
   "metadata": {},
   "outputs": [],
   "source": [
    "class ConfigurationManager:\n",
    "    def __init__(self, config_filepath = CONFIG_FILE_PATH, params_filepath = PARAMS_FILE_PATH, schema_filepath = SCHEMA_FILE_PATH):\n",
    "        self.config = read_yaml(config_filepath)\n",
    "        self.params = read_yaml(params_filepath)\n",
    "        self.schema = read_yaml(schema_filepath)\n",
    "\n",
    "        create_directories([self.config.artifacts_root])\n",
    "\n",
    "    def get_data_validation_config(self) -> DataValidationConfig:\n",
    "        config = self.config.data_validation\n",
    "        schema = self.schema\n",
    "        \n",
    "        data_files_dirs = {}\n",
    "        for k,v in config.data_dirs.items():\n",
    "            data_files_dirs[k] = v\n",
    "\n",
    "        create_directories([config.root_dir])\n",
    "\n",
    "        data_validation_config = DataValidationConfig(\n",
    "            root_dir = config.root_dir,\n",
    "            STATUS_FILE = config.STATUS_FILE,\n",
    "            all_schema = schema,\n",
    "            data_dirs = data_files_dirs\n",
    "        )\n",
    "\n",
    "        # for k,v in data_validation_config.data_dirs.items():\n",
    "        #     data_validation_config.data_dirs.k = config.data_dirs.k\n",
    "\n",
    "        return data_validation_config"
   ]
  },
  {
   "cell_type": "code",
   "execution_count": 15,
   "metadata": {},
   "outputs": [
    {
     "name": "stdout",
     "output_type": "stream",
     "text": [
      "DEBUG: YAML Content from config\\config.yaml -> {'artifacts_root': 'artifacts', 'data_ingestion': {'root_dir': 'artifacts/data_ingestion', 'source_URL': 'https://github.com/rkdsai/walmart-sales/raw/refs/heads/main/raw_data.zip', 'local_data_file': 'artifacts/data_ingestion/data.zip', 'unzip_dir': 'artifacts/data_ingestion'}, 'data_validation': {'root_dir': 'artifacts/data_validation', 'data_dirs': {'features': 'artifacts/data_ingestion/features.csv', 'stores': 'artifacts/data_ingestion/stores.csv', 'train': 'artifacts/data_ingestion/train.csv', 'test': 'artifacts/data_ingestion/test.csv'}, 'STATUS_FILE': 'artifacts/data_validation/status.txt'}}\n",
      "[2025-03-07 19:06:50,726: INFO: common: yaml file: config\\config.yaml loaded successfully]\n",
      "DEBUG: YAML Content from params.yaml -> {'LGBMRegressor': {'n_estimators': 250, 'learning_rate': 0.05}}\n",
      "[2025-03-07 19:06:50,729: INFO: common: yaml file: params.yaml loaded successfully]\n",
      "DEBUG: YAML Content from schema.yaml -> {'features': {'COLUMNS': {'Store': 'int64', 'Date': 'object', 'Temperature': 'float64', 'Fuel_Price': 'float64', 'MarkDown1': 'float64', 'MarkDown2': 'float64', 'MarkDown3': 'float64', 'MarkDown4': 'float64', 'MarkDown5': 'float64', 'CPI': 'float64', 'Unemployment': 'float64', 'IsHoliday': 'bool'}}, 'stores': {'COLUMNS': {'Store': 'int64', 'Type': 'object', 'Size': 'int64'}}, 'train': {'COLUMNS': {'Store': 'int64', 'Dept': 'int64', 'Date': 'object', 'IsHoliday': 'bool', 'Weekly_Sales': 'float64'}}, 'TARGET_COLUMN': {'name': 'Weekly_Sales'}, 'test': {'COLUMNS': {'Store': 'int64', 'Dept': 'int64', 'Date': 'object', 'IsHoliday': 'bool'}}}\n",
      "[2025-03-07 19:06:50,734: INFO: common: yaml file: schema.yaml loaded successfully]\n",
      "[2025-03-07 19:06:50,736: INFO: common: created directory at: artifacts]\n",
      "[2025-03-07 19:06:50,737: INFO: common: created directory at: artifacts/data_validation]\n"
     ]
    }
   ],
   "source": [
    "cm = ConfigurationManager()\n",
    "val_config = cm.get_data_validation_config()"
   ]
  },
  {
   "cell_type": "code",
   "execution_count": 16,
   "metadata": {},
   "outputs": [
    {
     "data": {
      "text/plain": [
       "dict_keys(['Store', 'Date', 'Temperature', 'Fuel_Price', 'MarkDown1', 'MarkDown2', 'MarkDown3', 'MarkDown4', 'MarkDown5', 'CPI', 'Unemployment', 'IsHoliday'])"
      ]
     },
     "execution_count": 16,
     "metadata": {},
     "output_type": "execute_result"
    }
   ],
   "source": [
    "val_config.all_schema[\"features\"][\"COLUMNS\"].keys()"
   ]
  },
  {
   "cell_type": "code",
   "execution_count": 17,
   "metadata": {},
   "outputs": [],
   "source": [
    "from projectFiles import logger\n"
   ]
  },
  {
   "cell_type": "code",
   "execution_count": 18,
   "metadata": {},
   "outputs": [],
   "source": [
    "class DataValidation:\n",
    "    def __init__(self, config: DataValidationConfig):\n",
    "        self.config = config\n",
    "\n",
    "    def validate_data(self) -> bool:\n",
    "        try:\n",
    "            validation_status = None\n",
    "            full_status = True\n",
    "            \n",
    "            with open(self.config.STATUS_FILE, 'w') as sfile:\n",
    "                sfile.write(\"Initializing validation tests\")\n",
    "\n",
    "            for k,v in self.config.data_dirs.items():\n",
    "                df = pd.read_csv(v)\n",
    "                df_cols = list(df.columns)\n",
    "                df_status = True\n",
    "\n",
    "                schema_cols = self.config.all_schema[k][\"COLUMNS\"].keys()\n",
    "                with open(self.config.STATUS_FILE, 'a') as sfile:\n",
    "                    sfile.write(f\"\\n\\nValidating columns for {k}.csv\")\n",
    "                for col in df_cols:\n",
    "                    if col not in schema_cols:\n",
    "                        validation_status = False\n",
    "                        df_status = False\n",
    "                        full_status = False\n",
    "                    else:\n",
    "                        validation_status = True\n",
    "                    with open(self.config.STATUS_FILE, 'a') as sfile:\n",
    "                        sfile.write(f\"\\nStatus of {v}: {validation_status}\")\n",
    "                with open(self.config.STATUS_FILE, 'a') as sfile:\n",
    "                    sfile.write(f\"\\n{k}.csv final validation status: {df_status}\")\n",
    "            \n",
    "            return full_status\n",
    "            \n",
    "        except Exception as e:\n",
    "            raise e"
   ]
  },
  {
   "cell_type": "code",
   "execution_count": 19,
   "metadata": {},
   "outputs": [
    {
     "name": "stdout",
     "output_type": "stream",
     "text": [
      "DEBUG: YAML Content from config\\config.yaml -> {'artifacts_root': 'artifacts', 'data_ingestion': {'root_dir': 'artifacts/data_ingestion', 'source_URL': 'https://github.com/rkdsai/walmart-sales/raw/refs/heads/main/raw_data.zip', 'local_data_file': 'artifacts/data_ingestion/data.zip', 'unzip_dir': 'artifacts/data_ingestion'}, 'data_validation': {'root_dir': 'artifacts/data_validation', 'data_dirs': {'features': 'artifacts/data_ingestion/features.csv', 'stores': 'artifacts/data_ingestion/stores.csv', 'train': 'artifacts/data_ingestion/train.csv', 'test': 'artifacts/data_ingestion/test.csv'}, 'STATUS_FILE': 'artifacts/data_validation/status.txt'}}\n",
      "[2025-03-07 19:07:43,027: INFO: common: yaml file: config\\config.yaml loaded successfully]\n",
      "DEBUG: YAML Content from params.yaml -> {'LGBMRegressor': {'n_estimators': 250, 'learning_rate': 0.05}}\n",
      "[2025-03-07 19:07:43,032: INFO: common: yaml file: params.yaml loaded successfully]\n",
      "DEBUG: YAML Content from schema.yaml -> {'features': {'COLUMNS': {'Store': 'int64', 'Date': 'object', 'Temperature': 'float64', 'Fuel_Price': 'float64', 'MarkDown1': 'float64', 'MarkDown2': 'float64', 'MarkDown3': 'float64', 'MarkDown4': 'float64', 'MarkDown5': 'float64', 'CPI': 'float64', 'Unemployment': 'float64', 'IsHoliday': 'bool'}}, 'stores': {'COLUMNS': {'Store': 'int64', 'Type': 'object', 'Size': 'int64'}}, 'train': {'COLUMNS': {'Store': 'int64', 'Dept': 'int64', 'Date': 'object', 'IsHoliday': 'bool', 'Weekly_Sales': 'float64'}}, 'TARGET_COLUMN': {'name': 'Weekly_Sales'}, 'test': {'COLUMNS': {'Store': 'int64', 'Dept': 'int64', 'Date': 'object', 'IsHoliday': 'bool'}}}\n",
      "[2025-03-07 19:07:43,039: INFO: common: yaml file: schema.yaml loaded successfully]\n",
      "[2025-03-07 19:07:43,042: INFO: common: created directory at: artifacts]\n",
      "[2025-03-07 19:07:43,043: INFO: common: created directory at: artifacts/data_validation]\n"
     ]
    }
   ],
   "source": [
    "try:\n",
    "    config = ConfigurationManager()\n",
    "    data_validation_config = config.get_data_validation_config()\n",
    "    data_validation = DataValidation(config = data_validation_config)\n",
    "    data_validation.validate_data()\n",
    "except Exception as e:\n",
    "    raise e"
   ]
  }
 ],
 "metadata": {
  "kernelspec": {
   "display_name": "Python 3",
   "language": "python",
   "name": "python3"
  },
  "language_info": {
   "codemirror_mode": {
    "name": "ipython",
    "version": 3
   },
   "file_extension": ".py",
   "mimetype": "text/x-python",
   "name": "python",
   "nbconvert_exporter": "python",
   "pygments_lexer": "ipython3",
   "version": "3.10.16"
  }
 },
 "nbformat": 4,
 "nbformat_minor": 2
}
